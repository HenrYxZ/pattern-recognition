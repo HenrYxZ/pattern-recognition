{
 "metadata": {
  "name": ""
 },
 "nbformat": 3,
 "nbformat_minor": 0,
 "worksheets": [
  {
   "cells": [
    {
     "cell_type": "code",
     "collapsed": false,
     "input": [
      "import glob\n",
      "a = glob.glob(\"oxbuild-images/*\")\n",
      "a[:10]"
     ],
     "language": "python",
     "metadata": {},
     "outputs": [
      {
       "metadata": {},
       "output_type": "pyout",
       "prompt_number": 3,
       "text": [
        "['oxbuild-images/radcliffe_camera_000420.jpg',\n",
        " 'oxbuild-images/trinity_000064.jpg',\n",
        " 'oxbuild-images/oxford_002914.jpg',\n",
        " 'oxbuild-images/new_001008.jpg',\n",
        " 'oxbuild-images/christ_church_000070.jpg',\n",
        " 'oxbuild-images/new_000883.jpg',\n",
        " 'oxbuild-images/oxford_003180.jpg',\n",
        " 'oxbuild-images/christ_church_000944.jpg',\n",
        " 'oxbuild-images/trinity_000223.jpg',\n",
        " 'oxbuild-images/oriel_000091.jpg']"
       ]
      }
     ],
     "prompt_number": 3
    },
    {
     "cell_type": "code",
     "collapsed": false,
     "input": [
      "Untitled0.ipynb"
     ],
     "language": "python",
     "metadata": {},
     "outputs": []
    }
   ],
   "metadata": {}
  }
 ]
}